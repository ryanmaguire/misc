{
 "cells": [
  {
   "cell_type": "markdown",
   "id": "dee2185e-bad7-4b57-952a-b20e29673034",
   "metadata": {},
   "source": [
    "<a id='helloworld'></a>\n",
    "# Hello World Tutorial: Python"
   ]
  },
  {
   "cell_type": "code",
   "execution_count": 1,
   "id": "24f164d8-2892-4cd6-b327-42dfec255941",
   "metadata": {},
   "outputs": [
    {
     "name": "stdout",
     "output_type": "stream",
     "text": [
      "Hello, World!\n"
     ]
    }
   ],
   "source": [
    "print(\"Hello, World!\")"
   ]
  }
 ],
 "metadata": {
  "kernelspec": {
   "display_name": "Python 3 (ipykernel)",
   "language": "python",
   "name": "python3"
  },
  "language_info": {
   "codemirror_mode": {
    "name": "ipython",
    "version": 3
   },
   "file_extension": ".py",
   "mimetype": "text/x-python",
   "name": "python",
   "nbconvert_exporter": "python",
   "pygments_lexer": "ipython3",
   "version": "3.11.2"
  }
 },
 "nbformat": 4,
 "nbformat_minor": 5
}
