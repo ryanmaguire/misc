{
 "cells": [
  {
   "cell_type": "markdown",
   "id": "7c15f6e2-0423-4c25-854f-bb355811054b",
   "metadata": {},
   "source": [
    "# Hello World Tutorial: The C Programming Language\n",
    "Let's write a simple program using the C programming language.<br />\n",
    "This is the classic *hello, world* example found in Kernighan and Ritchie's (K&R) text."
   ]
  },
  {
   "cell_type": "code",
   "execution_count": 5,
   "id": "3dcca308-5332-4327-8b21-984b3b1e1e86",
   "metadata": {},
   "outputs": [
    {
     "name": "stdout",
     "output_type": "stream",
     "text": [
      "Hello, World!\n"
     ]
    }
   ],
   "source": [
    "#include <stdio.h>\n",
    "\n",
    "int main(void)\n",
    "{\n",
    "    printf(\"Hello, World!\\n\");\n",
    "    return 0;\n",
    "}"
   ]
  },
  {
   "cell_type": "markdown",
   "id": "6cba6fd6-0917-4900-b75a-3d6386708695",
   "metadata": {},
   "source": [
    "We can similarly write this in Python.\n",
    "In python, the `print` function is built-in, whereas in C we needed<br />\n",
    "to import the `printf` function using `#include <stdio.h>`<br />\n",
    "`stdio.h` is a standard library file that provides many useful functions in C.\n",
    "The python implementation is [here.](hello.py.ipynb#helloworld)"
   ]
  }
 ],
 "metadata": {
  "kernelspec": {
   "display_name": "C",
   "language": "c",
   "name": "c"
  },
  "language_info": {
   "file_extension": ".c",
   "mimetype": "text/plain",
   "name": "c"
  }
 },
 "nbformat": 4,
 "nbformat_minor": 5
}
